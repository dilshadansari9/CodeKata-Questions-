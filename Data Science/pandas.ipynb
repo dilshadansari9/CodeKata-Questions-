{
 "cells": [
  {
   "cell_type": "code",
   "execution_count": 1,
   "id": "fe45b41b",
   "metadata": {},
   "outputs": [],
   "source": [
    "import pandas as pd"
   ]
  },
  {
   "cell_type": "code",
   "execution_count": 2,
   "id": "49842c01",
   "metadata": {},
   "outputs": [],
   "source": [
    "s=pd.Series([10,20,30,40,50])"
   ]
  },
  {
   "cell_type": "code",
   "execution_count": 3,
   "id": "ef41680a",
   "metadata": {},
   "outputs": [
    {
     "data": {
      "text/plain": [
       "0    10\n",
       "1    20\n",
       "2    30\n",
       "3    40\n",
       "4    50\n",
       "dtype: int64"
      ]
     },
     "execution_count": 3,
     "metadata": {},
     "output_type": "execute_result"
    }
   ],
   "source": [
    "s"
   ]
  },
  {
   "cell_type": "code",
   "execution_count": 4,
   "id": "4e555724",
   "metadata": {},
   "outputs": [
    {
     "data": {
      "text/plain": [
       "array([10, 20, 30, 40, 50], dtype=int64)"
      ]
     },
     "execution_count": 4,
     "metadata": {},
     "output_type": "execute_result"
    }
   ],
   "source": [
    "s.values"
   ]
  },
  {
   "cell_type": "code",
   "execution_count": 5,
   "id": "71483dde",
   "metadata": {},
   "outputs": [
    {
     "data": {
      "text/plain": [
       "dtype('int64')"
      ]
     },
     "execution_count": 5,
     "metadata": {},
     "output_type": "execute_result"
    }
   ],
   "source": [
    "s.dtype"
   ]
  },
  {
   "cell_type": "code",
   "execution_count": 6,
   "id": "1536a892",
   "metadata": {},
   "outputs": [
    {
     "data": {
      "text/plain": [
       "RangeIndex(start=0, stop=5, step=1)"
      ]
     },
     "execution_count": 6,
     "metadata": {},
     "output_type": "execute_result"
    }
   ],
   "source": [
    "s.index"
   ]
  },
  {
   "cell_type": "code",
   "execution_count": 7,
   "id": "a6e9515e",
   "metadata": {},
   "outputs": [
    {
     "name": "stdout",
     "output_type": "stream",
     "text": [
      "None\n"
     ]
    }
   ],
   "source": [
    "print(s.name) #This will give name of the column \"\""
   ]
  },
  {
   "cell_type": "code",
   "execution_count": 8,
   "id": "e91c91fd",
   "metadata": {},
   "outputs": [],
   "source": [
    "s.name='Numbers'"
   ]
  },
  {
   "cell_type": "code",
   "execution_count": 9,
   "id": "ad6b9511",
   "metadata": {},
   "outputs": [
    {
     "data": {
      "text/plain": [
       "0    10\n",
       "1    20\n",
       "2    30\n",
       "3    40\n",
       "4    50\n",
       "Name: Numbers, dtype: int64"
      ]
     },
     "execution_count": 9,
     "metadata": {},
     "output_type": "execute_result"
    }
   ],
   "source": [
    "s"
   ]
  },
  {
   "cell_type": "code",
   "execution_count": 10,
   "id": "a293c00c",
   "metadata": {},
   "outputs": [
    {
     "data": {
      "text/plain": [
       "10"
      ]
     },
     "execution_count": 10,
     "metadata": {},
     "output_type": "execute_result"
    }
   ],
   "source": [
    "#Indexing \n",
    "\n",
    "s[0]"
   ]
  },
  {
   "cell_type": "code",
   "execution_count": 11,
   "id": "b0b3dfcd",
   "metadata": {},
   "outputs": [
    {
     "data": {
      "text/plain": [
       "0    10\n",
       "1    20\n",
       "Name: Numbers, dtype: int64"
      ]
     },
     "execution_count": 11,
     "metadata": {},
     "output_type": "execute_result"
    }
   ],
   "source": [
    "s[0:2]"
   ]
  },
  {
   "cell_type": "code",
   "execution_count": 12,
   "id": "a11951a9",
   "metadata": {},
   "outputs": [],
   "source": [
    "# Another way of doing indexing is using iloc \n",
    "# This method give the location of the given index "
   ]
  },
  {
   "cell_type": "code",
   "execution_count": 14,
   "id": "94b829e7",
   "metadata": {},
   "outputs": [
    {
     "data": {
      "text/plain": [
       "10"
      ]
     },
     "execution_count": 14,
     "metadata": {},
     "output_type": "execute_result"
    }
   ],
   "source": [
    "s.iloc[0]"
   ]
  },
  {
   "cell_type": "code",
   "execution_count": 16,
   "id": "a4af5c4c",
   "metadata": {},
   "outputs": [
    {
     "data": {
      "text/plain": [
       "1    20\n",
       "2    30\n",
       "3    40\n",
       "Name: Numbers, dtype: int64"
      ]
     },
     "execution_count": 16,
     "metadata": {},
     "output_type": "execute_result"
    }
   ],
   "source": [
    "# If you want multiple values then you have to give index of all the items you want\n",
    "s.iloc[[1,2,3]]"
   ]
  },
  {
   "cell_type": "code",
   "execution_count": 17,
   "id": "c1adf36d",
   "metadata": {},
   "outputs": [],
   "source": [
    "s.name='calories'"
   ]
  },
  {
   "cell_type": "code",
   "execution_count": 18,
   "id": "43b1ca40",
   "metadata": {},
   "outputs": [
    {
     "data": {
      "text/plain": [
       "0    10\n",
       "1    20\n",
       "2    30\n",
       "3    40\n",
       "4    50\n",
       "Name: calories, dtype: int64"
      ]
     },
     "execution_count": 18,
     "metadata": {},
     "output_type": "execute_result"
    }
   ],
   "source": [
    "s"
   ]
  },
  {
   "cell_type": "code",
   "execution_count": 19,
   "id": "2628c327",
   "metadata": {},
   "outputs": [],
   "source": [
    "index=['apple','banana','grapes','orange','watermelon']"
   ]
  },
  {
   "cell_type": "code",
   "execution_count": 20,
   "id": "bc2d2a09",
   "metadata": {},
   "outputs": [],
   "source": [
    "s.index=index"
   ]
  },
  {
   "cell_type": "code",
   "execution_count": 21,
   "id": "4d9f856c",
   "metadata": {},
   "outputs": [
    {
     "data": {
      "text/plain": [
       "apple         10\n",
       "banana        20\n",
       "grapes        30\n",
       "orange        40\n",
       "watermelon    50\n",
       "Name: calories, dtype: int64"
      ]
     },
     "execution_count": 21,
     "metadata": {},
     "output_type": "execute_result"
    }
   ],
   "source": [
    "s"
   ]
  },
  {
   "cell_type": "code",
   "execution_count": 22,
   "id": "74001941",
   "metadata": {},
   "outputs": [
    {
     "data": {
      "text/plain": [
       "10"
      ]
     },
     "execution_count": 22,
     "metadata": {},
     "output_type": "execute_result"
    }
   ],
   "source": [
    "s['apple']"
   ]
  },
  {
   "cell_type": "code",
   "execution_count": 23,
   "id": "409102cb",
   "metadata": {},
   "outputs": [
    {
     "data": {
      "text/plain": [
       "10"
      ]
     },
     "execution_count": 23,
     "metadata": {},
     "output_type": "execute_result"
    }
   ],
   "source": [
    "# s.iloc['apple'] This is wrong method, you can still use the iloc method but using the indes number only \n",
    "s.iloc[0]"
   ]
  },
  {
   "cell_type": "code",
   "execution_count": 24,
   "id": "d84f7693",
   "metadata": {},
   "outputs": [],
   "source": [
    "# To get data using labels there is a function called loc \n",
    "# In this, the start as well as ending values both are included "
   ]
  },
  {
   "cell_type": "code",
   "execution_count": 25,
   "id": "12cb04c3",
   "metadata": {},
   "outputs": [
    {
     "data": {
      "text/plain": [
       "banana        20\n",
       "grapes        30\n",
       "orange        40\n",
       "watermelon    50\n",
       "Name: calories, dtype: int64"
      ]
     },
     "execution_count": 25,
     "metadata": {},
     "output_type": "execute_result"
    }
   ],
   "source": [
    "s.loc['banana':'watermelon']"
   ]
  },
  {
   "cell_type": "code",
   "execution_count": 27,
   "id": "37879240",
   "metadata": {},
   "outputs": [
    {
     "data": {
      "text/plain": [
       "banana        20\n",
       "watermelon    50\n",
       "Name: calories, dtype: int64"
      ]
     },
     "execution_count": 27,
     "metadata": {},
     "output_type": "execute_result"
    }
   ],
   "source": [
    "# For multiple values the method is same \n",
    "s.loc[['banana','watermelon']]"
   ]
  },
  {
   "cell_type": "code",
   "execution_count": 28,
   "id": "fdb30967",
   "metadata": {},
   "outputs": [],
   "source": [
    "fruit_protein = {\n",
    "\"Avocado\": 2.0,\n",
    "\"Guava\": 2.6,\n",
    "\"Blackberries\": 2.0,\n",
    "\"Oranges\": 0.9,\n",
    "\"Banana\": 1.1,\n",
    "\"Apples\": 0.3,\n",
    "\"Kiwi\": 1.1,\n",
    "\"Pomegranate\": 1.7,\n",
    "\"Mango\": 0.8,\n",
    "\"Cherries\": 1.0\n",
    "# grams of protein \n",
    "}"
   ]
  },
  {
   "cell_type": "code",
   "execution_count": 29,
   "id": "41d507c3",
   "metadata": {},
   "outputs": [],
   "source": [
    "s2=pd.Series(fruit_protein)"
   ]
  },
  {
   "cell_type": "code",
   "execution_count": 30,
   "id": "a92e1ffa",
   "metadata": {},
   "outputs": [
    {
     "data": {
      "text/plain": [
       "Avocado         2.0\n",
       "Guava           2.6\n",
       "Blackberries    2.0\n",
       "Oranges         0.9\n",
       "Banana          1.1\n",
       "Apples          0.3\n",
       "Kiwi            1.1\n",
       "Pomegranate     1.7\n",
       "Mango           0.8\n",
       "Cherries        1.0\n",
       "dtype: float64"
      ]
     },
     "execution_count": 30,
     "metadata": {},
     "output_type": "execute_result"
    }
   ],
   "source": [
    "s2"
   ]
  },
  {
   "cell_type": "code",
   "execution_count": 31,
   "id": "521e35bc",
   "metadata": {},
   "outputs": [],
   "source": [
    "s2.name='Gram'"
   ]
  },
  {
   "cell_type": "code",
   "execution_count": 32,
   "id": "e0b0d5d9",
   "metadata": {},
   "outputs": [
    {
     "data": {
      "text/plain": [
       "Avocado         2.0\n",
       "Guava           2.6\n",
       "Blackberries    2.0\n",
       "Oranges         0.9\n",
       "Banana          1.1\n",
       "Apples          0.3\n",
       "Kiwi            1.1\n",
       "Pomegranate     1.7\n",
       "Mango           0.8\n",
       "Cherries        1.0\n",
       "Name: Gram, dtype: float64"
      ]
     },
     "execution_count": 32,
     "metadata": {},
     "output_type": "execute_result"
    }
   ],
   "source": [
    "s2"
   ]
  },
  {
   "cell_type": "code",
   "execution_count": 33,
   "id": "114e9d86",
   "metadata": {},
   "outputs": [
    {
     "data": {
      "text/plain": [
       "Avocado          True\n",
       "Guava            True\n",
       "Blackberries     True\n",
       "Oranges         False\n",
       "Banana           True\n",
       "Apples          False\n",
       "Kiwi             True\n",
       "Pomegranate      True\n",
       "Mango           False\n",
       "Cherries        False\n",
       "Name: Gram, dtype: bool"
      ]
     },
     "execution_count": 33,
     "metadata": {},
     "output_type": "execute_result"
    }
   ],
   "source": [
    "# This will give boolean value as True or False  \n",
    "# THis is called as conditional selection \n",
    "s2>1"
   ]
  },
  {
   "cell_type": "code",
   "execution_count": 34,
   "id": "2d7bdda2",
   "metadata": {},
   "outputs": [
    {
     "data": {
      "text/plain": [
       "Avocado         2.0\n",
       "Guava           2.6\n",
       "Blackberries    2.0\n",
       "Banana          1.1\n",
       "Kiwi            1.1\n",
       "Pomegranate     1.7\n",
       "Name: Gram, dtype: float64"
      ]
     },
     "execution_count": 34,
     "metadata": {},
     "output_type": "execute_result"
    }
   ],
   "source": [
    "# If we want to print only those which are True then use \n",
    "s2[s2>1]"
   ]
  },
  {
   "cell_type": "code",
   "execution_count": 38,
   "id": "fcce52f3",
   "metadata": {},
   "outputs": [
    {
     "data": {
      "text/plain": [
       "Oranges        0.9\n",
       "Banana         1.1\n",
       "Kiwi           1.1\n",
       "Pomegranate    1.7\n",
       "Mango          0.8\n",
       "Cherries       1.0\n",
       "Name: Gram, dtype: float64"
      ]
     },
     "execution_count": 38,
     "metadata": {},
     "output_type": "execute_result"
    }
   ],
   "source": [
    "s2[(s2>0.5) & (s2<2)] # This is the correct syntax "
   ]
  },
  {
   "cell_type": "code",
   "execution_count": 39,
   "id": "32a8e335",
   "metadata": {},
   "outputs": [
    {
     "data": {
      "text/plain": [
       "Avocado         2.0\n",
       "Guava           2.6\n",
       "Blackberries    2.0\n",
       "Oranges         0.9\n",
       "Banana          1.1\n",
       "Apples          0.3\n",
       "Kiwi            1.1\n",
       "Pomegranate     1.7\n",
       "Mango           0.8\n",
       "Cherries        1.0\n",
       "Name: Gram, dtype: float64"
      ]
     },
     "execution_count": 39,
     "metadata": {},
     "output_type": "execute_result"
    }
   ],
   "source": [
    "s2"
   ]
  },
  {
   "cell_type": "code",
   "execution_count": 40,
   "id": "a129eeeb",
   "metadata": {},
   "outputs": [],
   "source": [
    "s2['Mango']=4.5 # This is the way of modifying a particular value "
   ]
  },
  {
   "cell_type": "code",
   "execution_count": 41,
   "id": "d75a1697",
   "metadata": {},
   "outputs": [
    {
     "data": {
      "text/plain": [
       "Avocado         2.0\n",
       "Guava           2.6\n",
       "Blackberries    2.0\n",
       "Oranges         0.9\n",
       "Banana          1.1\n",
       "Apples          0.3\n",
       "Kiwi            1.1\n",
       "Pomegranate     1.7\n",
       "Mango           4.5\n",
       "Cherries        1.0\n",
       "Name: Gram, dtype: float64"
      ]
     },
     "execution_count": 41,
     "metadata": {},
     "output_type": "execute_result"
    }
   ],
   "source": [
    "s2"
   ]
  },
  {
   "cell_type": "code",
   "execution_count": null,
   "id": "2c16b86b",
   "metadata": {},
   "outputs": [],
   "source": []
  }
 ],
 "metadata": {
  "kernelspec": {
   "display_name": "Python 3 (ipykernel)",
   "language": "python",
   "name": "python3"
  },
  "language_info": {
   "codemirror_mode": {
    "name": "ipython",
    "version": 3
   },
   "file_extension": ".py",
   "mimetype": "text/x-python",
   "name": "python",
   "nbconvert_exporter": "python",
   "pygments_lexer": "ipython3",
   "version": "3.10.2"
  }
 },
 "nbformat": 4,
 "nbformat_minor": 5
}
